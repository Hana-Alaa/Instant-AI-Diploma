{
 "cells": [
  {
   "cell_type": "markdown",
   "id": "e0ebcf54",
   "metadata": {},
   "source": [
    "### Task 1 : How to simulate do..while loop in Python?"
   ]
  },
  {
   "cell_type": "code",
   "execution_count": 3,
   "id": "a4aef9cc",
   "metadata": {},
   "outputs": [
    {
     "name": "stdout",
     "output_type": "stream",
     "text": [
      "Enter a positive number: -1\n",
      "Invalid input. Please try again.\n",
      "Enter a positive number: -5\n",
      "Invalid input. Please try again.\n",
      "Enter a positive number: -8\n",
      "Invalid input. Please try again.\n",
      "Enter a positive number: 2\n"
     ]
    }
   ],
   "source": [
    "while True:\n",
    "    user_input = input(\"Enter a positive number: \")\n",
    "    if user_input.isdigit() and int(user_input) > 0:\n",
    "        break\n",
    "    print(\"Invalid input. Please try again.\")"
   ]
  },
  {
   "cell_type": "code",
   "execution_count": null,
   "id": "2aacfa92",
   "metadata": {},
   "outputs": [],
   "source": []
  }
 ],
 "metadata": {
  "kernelspec": {
   "display_name": "Python 3 (ipykernel)",
   "language": "python",
   "name": "python3"
  },
  "language_info": {
   "codemirror_mode": {
    "name": "ipython",
    "version": 3
   },
   "file_extension": ".py",
   "mimetype": "text/x-python",
   "name": "python",
   "nbconvert_exporter": "python",
   "pygments_lexer": "ipython3",
   "version": "3.9.7"
  }
 },
 "nbformat": 4,
 "nbformat_minor": 5
}
